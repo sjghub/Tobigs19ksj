{
  "cells": [
    {
      "cell_type": "markdown",
      "metadata": {
        "id": "yclCebBQFn2I"
      },
      "source": [
        "# CNNbasic Assignment#1\n",
        "\n",
        "\n",
        "마크다운과 코드 속 `???` 를 채워주시면 됩니다!-!\n",
        "\n",
        "\n",
        "# AlexNet\n",
        "\n",
        "모델 구조 사진과 논문 사이트입니다.\n",
        "\n",
        "- paper: http://www.cs.toronto.edu/~fritz/absps/imagenet.pdf\n",
        "\n",
        "- dataset: http://image-net.org/challenges/LSVRC/2012/index#task\n",
        "\n",
        "- Model architecture\n",
        "\n",
        "![image.architecture1](attachment:image.png)\n",
        "\n",
        "![model_architecture2](https://t1.daumcdn.net/cfile/tistory/99FEB93C5C80B5192E)\n",
        "\n",
        "The second convolutional layer takes as input the (response-normalized\n",
        "and pooled) output of the first convolutional layer and filters it with 256 kernels of size 5 × 5 × 48.\n",
        "The third, fourth, and fifth convolutional layers are connected to one another without any intervening\n",
        "pooling or normalization layers. The third convolutional layer has 384 kernels of size 3 × 3 ×\n",
        "256 connected to the (normalized, pooled) outputs of the second convolutional layer. The fourth\n",
        "convolutional layer has 384 kernels of size 3 × 3 × 192 , and the fifth convolutional layer has 256\n",
        "kernels of size 3 × 3 × 192. The fully-connected layers have 4096 neurons each.\n",
        "\n",
        "\n",
        "### Naive Version\n",
        "CONV_1 - POOL_1 - CONV_2 - POOL_2 - CONV_3 - CONV_4 - CONV_5 - POOL_3 - FC1 - FC2 - FC3 (->SOFTMAX)\n",
        "\n",
        "### detailed\n",
        "CONV_1(ReLU) - POOL_1 - CONV_2(ReLU) - POOL_2 - CONV_3(ReLU) - CONV_4(ReLU) - CONV_5(ReLU) - POOL_3 -(Flatten) FC1(ReLU) - FC2(ReLU) - FC3(->SOFTMAX)"
      ]
    },
    {
      "cell_type": "markdown",
      "metadata": {
        "id": "exDZxL9QFn2L"
      },
      "source": [
        "## Layer 1 is a Convolution Layer_1\n",
        "\n",
        "- **Input Image size**  244 x 224 x 3 -> 227 x 227 x 3\n",
        "\n",
        "- **Number of filters**    96\n",
        "\n",
        "- **Filter size**   11 x 11 x 3\n",
        "\n",
        "- **Stride**    4\n",
        "\n",
        "- **Layer 1 Output**    55 x 55 x 96"
      ]
    },
    {
      "cell_type": "code",
      "execution_count": 1,
      "metadata": {
        "colab": {
          "base_uri": "https://localhost:8080/"
        },
        "id": "cLuackHa4ezY",
        "outputId": "df580b87-fd56-4552-b22e-f29038f18ac3"
      },
      "outputs": [
        {
          "output_type": "execute_result",
          "data": {
            "text/plain": [
              "34944"
            ]
          },
          "metadata": {},
          "execution_count": 1
        }
      ],
      "source": [
        "## TODO ##\n",
        "\n",
        "######################################################\n",
        "#  Calculate the number of parameters in this layer  #\n",
        "######################################################\n",
        "\n",
        "Conv_1 = (11 * 11 * 3) * 96 + 96 \n",
        "Conv_1\n",
        "# '''Don't forget to include Bias'''"
      ]
    },
    {
      "cell_type": "markdown",
      "metadata": {
        "id": "XvlIbO-uFn2V"
      },
      "source": [
        "## Layer 2 is a Max Pooling_1 Followed by Convolution_1\n",
        "\n",
        "- **Input**     55 x 55 x 96\n",
        "\n",
        "- **Max pooling**     \n",
        "\n",
        "- **Pooling size** (overlapping)  3 x 3\n",
        "\n",
        "    * overlapping 중첩되어서 지나감\n",
        "\n",
        "- **Stride**     2\n",
        "\n",
        "- **Layer 2 Output**   27 x 27 x 96\n",
        "    \n",
        "    * 차원은 변함 없음"
      ]
    },
    {
      "cell_type": "code",
      "execution_count": null,
      "metadata": {
        "id": "An0wx4VO4eza"
      },
      "outputs": [],
      "source": [
        "## TODO \n",
        "\n",
        "######################################################\n",
        "#  Calculate the number of parameters in this layer  #\n",
        "######################################################\n",
        "\n",
        "Max_pool_1 = 0 # no parameters\n",
        "Max_pool_1"
      ]
    },
    {
      "cell_type": "markdown",
      "metadata": {
        "id": "r70OGeViFn2Z"
      },
      "source": [
        "## Layer 3 is a Convolution Layer_2\n",
        "\n",
        "- **Input**     27 x 27 x 96\n",
        "\n",
        "- **Number of filters**     256\n",
        "\n",
        "- **Filter size**     5 x 5 x 96\n",
        "\n",
        "- **Stride**     1\n",
        "\n",
        "- **padding**    2\n",
        "\n",
        "- **Layer 3 Output**   27 x 27 x 256"
      ]
    },
    {
      "cell_type": "code",
      "execution_count": null,
      "metadata": {
        "id": "hR0dTxjL4ezb"
      },
      "outputs": [],
      "source": [
        "## TODO \n",
        "\n",
        "######################################################\n",
        "#  Calculate the number of parameters in this layer  #\n",
        "######################################################\n",
        "\n",
        "Conv_2 = (5 * 5 * 96)*256 + 256 # 가중치 + 편향\n",
        "Conv_2"
      ]
    },
    {
      "cell_type": "markdown",
      "metadata": {
        "id": "DQZhwY4eFn2e"
      },
      "source": [
        "## Layer 4 is a Max Pooling_2 Followed by Convolution_2\n",
        "\n",
        "- **Input**    27 x 27 x 256\n",
        "\n",
        "- **Max pooling**      \n",
        "\n",
        "- **Pooling size**(overlapping) 3 x 3\n",
        "\n",
        "- **Stride**     2\n",
        "\n",
        "- **Layer 4 Output** 13 x 13 x 256"
      ]
    },
    {
      "cell_type": "code",
      "execution_count": null,
      "metadata": {
        "id": "3Vt2monX4ezc"
      },
      "outputs": [],
      "source": [
        "## TODO \n",
        "\n",
        "######################################################\n",
        "#  Calculate the number of parameters in this layer  #\n",
        "######################################################\n",
        "\n",
        "Max_pool_2 = 0 # no parameters\n",
        "Max_pool_2"
      ]
    },
    {
      "cell_type": "markdown",
      "metadata": {
        "id": "xPm4PRFAFn2i"
      },
      "source": [
        "## Layer 5 is a Convolution Layer_3\n",
        "\n",
        "- **Input**     13 x 13 x 256\n",
        "\n",
        "- **Number of filters**     384\n",
        "\n",
        "- **Filter size**     3 x 3 x 256\n",
        "\n",
        "- **Stride**     1\n",
        "\n",
        "- **padding**     1\n",
        "\n",
        "- **Layer 5 Output** 13 x 13 x 384     \n"
      ]
    },
    {
      "cell_type": "code",
      "execution_count": null,
      "metadata": {
        "id": "ZzvcSG3o4eze"
      },
      "outputs": [],
      "source": [
        "## TODO \n",
        "\n",
        "######################################################\n",
        "#  Calculate the number of parameters in this layer  #\n",
        "######################################################\n",
        "\n",
        "Conv_3 = (3 * 3 * 256)*384 + 384 # 가중치 + 편향\n",
        "Conv_3"
      ]
    },
    {
      "cell_type": "markdown",
      "metadata": {
        "id": "Yv57b2vxFn2o"
      },
      "source": [
        "## Layer 6 is  a Convolution Layer_4\n",
        "\n",
        "- **Input**     13 x 13 x 384\n",
        "\n",
        "- **Number of filters**     384\n",
        "\n",
        "- **Filter size**     3 x 3 x 384\n",
        "\n",
        "- **Stride**     1\n",
        "\n",
        "- **padding**     1\n",
        "\n",
        "- **Layer 6 Output** 13 x 13 x 384     "
      ]
    },
    {
      "cell_type": "code",
      "execution_count": null,
      "metadata": {
        "id": "iyBKDkJB4ezf"
      },
      "outputs": [],
      "source": [
        "## TODO \n",
        "\n",
        "######################################################\n",
        "#  Calculate the number of parameters in this layer  #\n",
        "######################################################\n",
        "\n",
        "Conv_4 = (3 * 3 * 384)*384 + 384 # 가중치 + 편향\n",
        "Conv_4"
      ]
    },
    {
      "cell_type": "markdown",
      "metadata": {
        "id": "NiQL84J_Fn2s"
      },
      "source": [
        "## Layer 7 is a Convolution Layer_5\n",
        "\n",
        "- **Input**    13 x 13 x 384\n",
        "\n",
        "- **Number of filters**    256\n",
        "\n",
        "- **Filter size**    3 x 3 x 384\n",
        "\n",
        "- **Stride**    1\n",
        "\n",
        "- **padding**    1\n",
        "\n",
        "- **Layer 7 Output** 13 x 13 x 256    "
      ]
    },
    {
      "cell_type": "code",
      "execution_count": null,
      "metadata": {
        "id": "wBfrgdqQ4ezg"
      },
      "outputs": [],
      "source": [
        "## TODO \n",
        "\n",
        "######################################################\n",
        "#  Calculate the number of parameters in this layer  #\n",
        "######################################################\n",
        "\n",
        "Conv_5 = (3 * 3 * 384)*256 + 256 # 가중치 + 편향\n",
        "Conv_5"
      ]
    },
    {
      "cell_type": "markdown",
      "metadata": {
        "id": "WSTe-0IxFn2w"
      },
      "source": [
        "## Layer 8 is a Max Pooling_3 Followed by Convolution_5\n",
        "\n",
        "- **Input**     13 x 13 x 256\n",
        "\n",
        "- **Max pooling**    \n",
        "\n",
        "- **Pooling size**(overlapping) 3 x 3     \n",
        "\n",
        "- **Stride**     2\n",
        "\n",
        "- **Layer 8 Output** 6 x 6 x 256     "
      ]
    },
    {
      "cell_type": "code",
      "execution_count": null,
      "metadata": {
        "id": "y6PeIWHu4ezh"
      },
      "outputs": [],
      "source": [
        "## TODO \n",
        "\n",
        "######################################################\n",
        "#  Calculate the number of parameters in this layer  #\n",
        "######################################################\n",
        "\n",
        "Max_pool_3 = 0 # no parameters\n",
        "Max_pool_3"
      ]
    },
    {
      "cell_type": "markdown",
      "metadata": {
        "id": "798N3vBYFn21"
      },
      "source": [
        "## Layer 9 is a Fully_Connected layer_1\n",
        "\n",
        "- **input**     6 x 6 x 256\n",
        "\n",
        "- **flatten**     6 x 6 x 256\n",
        "\n",
        "- **output size**   (N,flatten) x (flatten,4096)  \n",
        "\n",
        "- **N** Number of input data      "
      ]
    },
    {
      "cell_type": "code",
      "execution_count": null,
      "metadata": {
        "id": "QyzVmJmC4ezh"
      },
      "outputs": [],
      "source": [
        "## TODO \n",
        "\n",
        "######################################################\n",
        "#  Calculate the number of parameters in this layer  #\n",
        "######################################################\n",
        "\n",
        "FC1 = 9216*4096 + 4096 # 가중치 + 편향\n",
        "FC1"
      ]
    },
    {
      "cell_type": "markdown",
      "metadata": {
        "id": "kIfvpHPTFn25"
      },
      "source": [
        "## Layer 10 is a Fully_Connected layer_2\n",
        "\n",
        "- **input**     (N,4096)\n",
        "\n",
        "- **output size**     (N,4096) x (4096,4096)\n",
        "\n",
        "- **N** Number of input data "
      ]
    },
    {
      "cell_type": "code",
      "execution_count": null,
      "metadata": {
        "id": "ueaD49zG4ezi"
      },
      "outputs": [],
      "source": [
        "## TODO \n",
        "\n",
        "######################################################\n",
        "#  Calculate the number of parameters in this layer  #\n",
        "######################################################\n",
        "\n",
        "FC2 = 4096*4096 + 4096 # 가중치 + 편향\n",
        "FC2"
      ]
    },
    {
      "cell_type": "markdown",
      "metadata": {
        "id": "N8TaZQTBFn29"
      },
      "source": [
        "## Layer 11 is a Fully_Connected layer_3\n",
        "\n",
        "- **input**    (N,4096)\n",
        "\n",
        "- **output size**     (N,4096) x (4096,N_classes)\n",
        "\n",
        "- **N** Number of input data \n",
        "\n",
        "- **Num_classes** Number of labels =      1000"
      ]
    },
    {
      "cell_type": "code",
      "execution_count": null,
      "metadata": {
        "id": "z5vxB6qg4ezj"
      },
      "outputs": [],
      "source": [
        "## TODO \n",
        "\n",
        "######################################################\n",
        "#  Calculate the number of parameters in this layer  #\n",
        "######################################################\n",
        "\n",
        "FC3 = 4096 * 1000 + 1000 # 가중치 + 편향\n",
        "FC3"
      ]
    }
  ],
  "metadata": {
    "colab": {
      "provenance": []
    },
    "kernelspec": {
      "display_name": "Python 3",
      "language": "python",
      "name": "python3"
    },
    "language_info": {
      "codemirror_mode": {
        "name": "ipython",
        "version": 3
      },
      "file_extension": ".py",
      "mimetype": "text/x-python",
      "name": "python",
      "nbconvert_exporter": "python",
      "pygments_lexer": "ipython3",
      "version": "3.8.3"
    }
  },
  "nbformat": 4,
  "nbformat_minor": 0
}