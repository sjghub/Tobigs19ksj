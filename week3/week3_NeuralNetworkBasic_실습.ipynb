{
  "cells": [
    {
      "cell_type": "markdown",
      "id": "00493e77",
      "metadata": {
        "id": "00493e77"
      },
      "source": [
        "> # Neural Network Basic - Week3 과제\n"
      ]
    },
    {
      "cell_type": "markdown",
      "id": "747656a3",
      "metadata": {
        "id": "747656a3"
      },
      "source": [
        "## Import Library"
      ]
    },
    {
      "cell_type": "code",
      "execution_count": 33,
      "id": "2d4be987",
      "metadata": {
        "id": "2d4be987"
      },
      "outputs": [],
      "source": [
        "%matplotlib inline\n",
        "from tensorflow.keras.datasets import mnist\n",
        "import numpy as np\n",
        "import matplotlib.pyplot as plt\n"
      ]
    },
    {
      "cell_type": "markdown",
      "id": "bbd9ddbb",
      "metadata": {
        "id": "bbd9ddbb"
      },
      "source": [
        "## Load Dataset\n",
        "- MNIST "
      ]
    },
    {
      "cell_type": "code",
      "source": [
        "(X_train, Y_train), (X_test, Y_test) = mnist.load_data()"
      ],
      "metadata": {
        "id": "XrXJ-tUdvMlK"
      },
      "id": "XrXJ-tUdvMlK",
      "execution_count": 109,
      "outputs": []
    },
    {
      "cell_type": "code",
      "execution_count": 63,
      "id": "2bd1d69a",
      "metadata": {
        "id": "2bd1d69a",
        "colab": {
          "base_uri": "https://localhost:8080/"
        },
        "outputId": "6322b333-f208-43ad-e2b1-42fbb802b56e"
      },
      "outputs": [
        {
          "output_type": "stream",
          "name": "stdout",
          "text": [
            "X_train shape: (60000, 784)\n",
            "X_test shape: (10000, 784)\n",
            "Y_train shape: (60000,)\n",
            "Y_train shape: (10000,)\n"
          ]
        }
      ],
      "source": [
        "print(f'X_train shape: {X_train.shape}')\n",
        "print(f'X_test shape: {X_test.shape}')\n",
        "print(f'Y_train shape: {Y_train.shape}')\n",
        "print(f'Y_train shape: {Y_test.shape}')"
      ]
    },
    {
      "cell_type": "code",
      "source": [
        "X_train = X_train / 255.0\n",
        "X_test = X_test / 255.0"
      ],
      "metadata": {
        "id": "mnnXB-_xvmIj"
      },
      "id": "mnnXB-_xvmIj",
      "execution_count": 38,
      "outputs": []
    },
    {
      "cell_type": "code",
      "source": [
        "X_train = X_train.reshape(60000, 784)\n",
        "X_test = X_test.reshape(10000, 784)"
      ],
      "metadata": {
        "id": "iYAqtJ3Rz4gP"
      },
      "id": "iYAqtJ3Rz4gP",
      "execution_count": 62,
      "outputs": []
    },
    {
      "cell_type": "markdown",
      "id": "4581cc2e",
      "metadata": {
        "id": "4581cc2e"
      },
      "source": [
        "## Activation Function \n",
        "- sigmoid & relu : hidden layer activation function \n",
        "- softmax : output layer activation function "
      ]
    },
    {
      "cell_type": "code",
      "execution_count": 39,
      "id": "a147a2b7",
      "metadata": {
        "id": "a147a2b7"
      },
      "outputs": [],
      "source": [
        "class sigmoid:\n",
        "    # sigmoid 함수를 작성하세요 \n",
        "    def forward(x):\n",
        "        return 1/(1+np.exp(-x))\n",
        "    \n",
        "    # sigmoid 함수의 미분을 작성하세요\n",
        "    def backward(x):\n",
        "        return (1/(1+np.exp(-x)))*(1-1/(1+np.exp(-x)))"
      ]
    },
    {
      "cell_type": "code",
      "execution_count": 40,
      "id": "f37afa8d",
      "metadata": {
        "id": "f37afa8d"
      },
      "outputs": [],
      "source": [
        "class relu:\n",
        "    # relu 함수를 작성하세요\n",
        "    def forward(x):\n",
        "        return np.max(0,x)\n",
        "    \n",
        "    # relu 함수의 미분을 작성하세요\n",
        "    def backward(x):\n",
        "        if x<0: return 0\n",
        "        else: return 1"
      ]
    },
    {
      "cell_type": "code",
      "execution_count": 41,
      "id": "cb44b346",
      "metadata": {
        "id": "cb44b346"
      },
      "outputs": [],
      "source": [
        "class softmax:\n",
        "    def forward(z):\n",
        "        y = []\n",
        "        for zi in z:\n",
        "            c = np.max(zi)\n",
        "            exp_zi = np.exp(zi-c)\n",
        "            sum_exp_zi = np.sum(exp_zi)\n",
        "            yi = exp_zi / sum_exp_zi\n",
        "            y.append(yi)\n",
        "\n",
        "        return np.array(y)\n",
        "    \n",
        "    def backward(p, y) :\n",
        "        dp = p.copy()\n",
        "        for dpi, yi in zip(dp, y):\n",
        "            for k in range(dp.shape[1]):\n",
        "                if k == yi :\n",
        "                    dpi[k] -= 1\n",
        "        return dp"
      ]
    },
    {
      "cell_type": "markdown",
      "id": "36955740",
      "metadata": {
        "id": "36955740"
      },
      "source": [
        "## Loss Function"
      ]
    },
    {
      "cell_type": "code",
      "execution_count": 42,
      "id": "44e0ad37",
      "metadata": {
        "id": "44e0ad37"
      },
      "outputs": [],
      "source": [
        "def cross_entropy(p, y):\n",
        "    loss = []\n",
        "    for pi, yi in zip(p, y):\n",
        "        for k in range(p.shape[1]):\n",
        "            if k == yi:\n",
        "                loss.append((-1) * (np.log(pi[k] + 1e-8))) \n",
        "    return loss"
      ]
    },
    {
      "cell_type": "markdown",
      "id": "0f9a7228",
      "metadata": {
        "id": "0f9a7228"
      },
      "source": [
        "## Layer"
      ]
    },
    {
      "cell_type": "code",
      "execution_count": 43,
      "id": "668bda1a",
      "metadata": {
        "id": "668bda1a"
      },
      "outputs": [],
      "source": [
        "class Layer:\n",
        "    def __init__(self, input_size, output_size, std=1e-4) :\n",
        "        self.input_size = input_size\n",
        "        self.output_size = output_size\n",
        "        self.bias = np.random.randn(output_size)\n",
        "        self.weight = np.random.randn(input_size, output_size)*std"
      ]
    },
    {
      "cell_type": "markdown",
      "id": "a72dfcee",
      "metadata": {
        "id": "a72dfcee"
      },
      "source": [
        "## Neural Network\n",
        "- 각 메소드와 변수들의 역할을 주석으로 달아주세요! "
      ]
    },
    {
      "cell_type": "code",
      "execution_count": 44,
      "id": "33125095",
      "metadata": {
        "id": "33125095"
      },
      "outputs": [],
      "source": [
        "class CustomNet:\n",
        "    # CustomNet을 선언할 때 생성되는 값들입니다.\n",
        "    def __init__(self, lr=0.0001, epoch=500, batch_size=200):\n",
        "        self.lr = lr\n",
        "        self.epoch = epoch  \n",
        "        self.batch_size = batch_size\n",
        "        self.loss_function = cross_entropy \n",
        "        self.layers = []\n",
        "        self.activations = [softmax]\n",
        "        self.nodes = []\n",
        "    \n",
        "    # Layer를 추가할 때 호출합니다\n",
        "    def addLayer(self, Layer): \n",
        "        self.layers.append(Layer) \n",
        "        if not self.nodes: \n",
        "            self.nodes.append(np.zeros(Layer.input_size))\n",
        "        self.nodes.append(np.zeros(Layer.output_size))\n",
        "        \n",
        "    # Activation Function을 추가할 때 호출합니다\n",
        "    def addActivation(self, Activation):\n",
        "        tmp = self.activations.pop() \n",
        "        self.activations.append(Activation) \n",
        "        self.activations.append(tmp) \n",
        "        \n",
        "    # 순전파 함수\n",
        "    def _forward(self, X):\n",
        "        self.nodes[0] = X.copy() \n",
        "        output = X.copy() \n",
        "        for i in range(len(self.layers)): \n",
        "            Layer = self.layers[i] \n",
        "            Activation = self.activations[i] \n",
        "            output = np.dot(self.nodes[i], Layer.weight) \n",
        "            output = output+ Layer.bias \n",
        "            output = Activation.forward(output) \n",
        "            self.nodes[i+1] = output \n",
        "        return output   \n",
        "    \n",
        "    # 역전파 함수\n",
        "    def _backward(self, X, output, y) :\n",
        "        for i in reversed(range(len(self.layers))): \n",
        "            a = self.nodes[i+1] \n",
        "            Layer = self.layers[i] \n",
        "            Activation = self.activations[i] \n",
        "            \n",
        "            if i+1 == len(self.layers): \n",
        "                error = Activation.backward(output, y)\n",
        "            else:\n",
        "                error *= Activation.backward(a)\n",
        "            Layer.weight -= np.dot(error.T, self.nodes[i]).T*self.lr/X.shape[0] \n",
        "            Layer.bias -= error.sum(axis=0)*self.lr/X.shape[0]\n",
        "            error = np.dot(error, Layer.weight.T) \n",
        "            \n",
        "    # Accrucy를 반환합니다\n",
        "    def _accuracy(self, output, y):\n",
        "        pre_p = np.argmax(output, axis=1)\n",
        "        return np.sum(pre_p==y)/y.shape[0] \n",
        "    \n",
        "    # 데이터셋에 모델을 fit할때 호출합니다\n",
        "    def fit(self, X, y, val_X, val_y):\n",
        "        history = {'val_acc': [],'val_loss': []}\n",
        "        N = X.shape[0]\n",
        "        for i in range(self.epoch):\n",
        "            for j in range(N//self.batch_size): \n",
        "                batch_mask = np.random.choice(N, self.batch_size)\n",
        "                X_batch = X[batch_mask] \n",
        "                y_batch = y[batch_mask] \n",
        "                output = self._forward(X_batch) \n",
        "                self._backward(X_batch, output, y_batch)\n",
        "            \n",
        "            #accuracy와 loss를 기록해둡시다\n",
        "            output = self._forward(val_X) \n",
        "            history[\"val_acc\"].append(self._accuracy(output, val_y)) \n",
        "            history[\"val_loss\"].append(sum(self.loss_function(output, val_y))) \n",
        "            \n",
        "            #중간중간 기록을 찍어볼 때 사용. 적절히 조절해 쓰세요\n",
        "            if i % 10 == 0:\n",
        "                print(i, \"test accuracy :\", history[\"val_acc\"][-1])\n",
        "                print(i, \"test loss     :\", history[\"val_loss\"][-1])\n",
        "        return history"
      ]
    },
    {
      "cell_type": "markdown",
      "id": "e7787d0e",
      "metadata": {
        "id": "e7787d0e"
      },
      "source": [
        "## Customizing\n",
        "- Network parameter, Layer architecture, Activation function .. 등등 다양한 하이퍼파라미터를 커스터마이징하여 높은 성능에 도달해 봅시다! "
      ]
    },
    {
      "cell_type": "code",
      "execution_count": 78,
      "id": "10d3d20c",
      "metadata": {
        "id": "10d3d20c"
      },
      "outputs": [],
      "source": [
        "# 하이퍼파라미터를 적절히 조절해 뉴럴넷을 선언하세요\n",
        "nn = CustomNet(lr=0.005, epoch=200, batch_size=400)\n",
        "\n",
        "# 원하는 만큼 층과 활성화 함수를 쌓아 주세요. 기본적으로 2Layer를 예시로 적어드립니다\n",
        "nn.addLayer(Layer(784,100))\n",
        "nn.addActivation(sigmoid)\n",
        "nn.addLayer(Layer(100,10))\n",
        "nn.addActivation(softmax)"
      ]
    },
    {
      "cell_type": "code",
      "execution_count": 79,
      "id": "771766e2",
      "metadata": {
        "id": "771766e2",
        "outputId": "844ec00d-d8f1-4f89-85e5-a5159bdc87eb",
        "colab": {
          "base_uri": "https://localhost:8080/"
        }
      },
      "outputs": [
        {
          "output_type": "stream",
          "name": "stdout",
          "text": [
            "(784, 100) (100,)\n",
            "(100, 10) (10,)\n"
          ]
        }
      ],
      "source": [
        "# 선언한 뉴럴넷의 구조입니다\n",
        "for layer in nn.layers:\n",
        "    print(layer.weight.shape, layer.bias.shape)"
      ]
    },
    {
      "cell_type": "code",
      "execution_count": 80,
      "id": "b2c1018a",
      "metadata": {
        "id": "b2c1018a",
        "colab": {
          "base_uri": "https://localhost:8080/"
        },
        "outputId": "84710a0c-7c66-414f-930c-e3b54e304df0"
      },
      "outputs": [
        {
          "output_type": "stream",
          "name": "stdout",
          "text": [
            "0 test accuracy : 0.1135\n",
            "0 test loss     : 23079.90840125716\n",
            "10 test accuracy : 0.1825\n",
            "10 test loss     : 22858.626759130562\n",
            "20 test accuracy : 0.1917\n",
            "20 test loss     : 22673.6067233368\n",
            "30 test accuracy : 0.2354\n",
            "30 test loss     : 22345.941570852803\n",
            "40 test accuracy : 0.2627\n",
            "40 test loss     : 21624.65680875815\n",
            "50 test accuracy : 0.3599\n",
            "50 test loss     : 20246.178577378116\n",
            "60 test accuracy : 0.4241\n",
            "60 test loss     : 18514.474888239278\n",
            "70 test accuracy : 0.4885\n",
            "70 test loss     : 16524.28134056841\n",
            "80 test accuracy : 0.5429\n",
            "80 test loss     : 14425.651743034316\n",
            "90 test accuracy : 0.5893\n",
            "90 test loss     : 12791.673248176363\n",
            "100 test accuracy : 0.6315\n",
            "100 test loss     : 11497.808154083588\n",
            "110 test accuracy : 0.6718\n",
            "110 test loss     : 10376.741067426441\n",
            "120 test accuracy : 0.7043\n",
            "120 test loss     : 9414.15290820217\n",
            "130 test accuracy : 0.7353\n",
            "130 test loss     : 8577.274824971224\n",
            "140 test accuracy : 0.7667\n",
            "140 test loss     : 7828.819009244269\n",
            "150 test accuracy : 0.7896\n",
            "150 test loss     : 7172.220858898723\n",
            "160 test accuracy : 0.8073\n",
            "160 test loss     : 6614.856736712872\n",
            "170 test accuracy : 0.8244\n",
            "170 test loss     : 6145.895279679473\n",
            "180 test accuracy : 0.8379\n",
            "180 test loss     : 5753.362511710472\n",
            "190 test accuracy : 0.8476\n",
            "190 test loss     : 5423.672658729572\n"
          ]
        }
      ],
      "source": [
        "history = nn.fit(X_train, Y_train, X_test, Y_test)"
      ]
    },
    {
      "cell_type": "markdown",
      "id": "b76a6163",
      "metadata": {
        "id": "b76a6163"
      },
      "source": [
        "## Accuracy, Loss Visualization\n",
        "- 자유롭게 Accuracy나 Loss를 시각화하여 확인하고 결과를 확인해 보세요! "
      ]
    },
    {
      "cell_type": "code",
      "execution_count": 107,
      "id": "eb733190",
      "metadata": {
        "id": "eb733190",
        "colab": {
          "base_uri": "https://localhost:8080/",
          "height": 280
        },
        "outputId": "3988e52c-04d0-4e7e-eea4-18a69194b87f"
      },
      "outputs": [
        {
          "output_type": "display_data",
          "data": {
            "text/plain": [
              "<Figure size 432x288 with 2 Axes>"
            ],
            "image/png": "[encoded data removed]"
          },
          "metadata": {
            "needs_background": "light"
          }
        }
      ],
      "source": [
        "plt.subplot(1, 2, 1)\n",
        "plt.xlabel('val_acc')\n",
        "plt.plot(np.arange(1,len(history['val_acc'])+1),history['val_acc'])\n",
        "\n",
        "plt.subplot(1, 2, 2)\n",
        "plt.xlabel('val_loss')\n",
        "plt.plot(np.arange(1,len(history['val_loss'])+1),history['val_loss'])\n",
        "plt.show()"
      ]
    }
  ],
  "metadata": {
    "kernelspec": {
      "display_name": "Python 3 (ipykernel)",
      "language": "python",
      "name": "python3"
    },
    "language_info": {
      "codemirror_mode": {
        "name": "ipython",
        "version": 3
      },
      "file_extension": ".py",
      "mimetype": "text/x-python",
      "name": "python",
      "nbconvert_exporter": "python",
      "pygments_lexer": "ipython3",
      "version": "3.9.7"
    },
    "colab": {
      "provenance": []
    }
  },
  "nbformat": 4,
  "nbformat_minor": 5
}